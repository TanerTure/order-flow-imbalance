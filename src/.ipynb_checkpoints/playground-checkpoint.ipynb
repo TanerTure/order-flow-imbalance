{
 "cells": [
  {
   "cell_type": "code",
   "execution_count": 165,
   "id": "5ca1a199-85c5-41a3-9521-b164ade28057",
   "metadata": {
    "tags": []
   },
   "outputs": [],
   "source": [
    "import pandas as pd\n",
    "import numpy as np"
   ]
  },
  {
   "cell_type": "code",
   "execution_count": null,
   "id": "67c01890-0c1f-4b97-8e99-849e7b8f040f",
   "metadata": {},
   "outputs": [],
   "source": []
  },
  {
   "cell_type": "code",
   "execution_count": 7,
   "id": "af441ae2-7c2f-4c94-aeaa-25587ba62931",
   "metadata": {
    "tags": []
   },
   "outputs": [],
   "source": [
    "data = pd.read_csv(\"../Data/first_25000_rows.csv\")"
   ]
  },
  {
   "cell_type": "code",
   "execution_count": 17,
   "id": "792faad3-d57d-4b78-aaba-8716b60b7751",
   "metadata": {
    "tags": []
   },
   "outputs": [
    {
     "data": {
      "text/plain": [
       "Index(['ts_recv', 'ts_event', 'rtype', 'publisher_id', 'instrument_id',\n",
       "       'action', 'side', 'depth', 'price', 'size', 'flags', 'ts_in_delta',\n",
       "       'sequence', 'bid_px_00', 'ask_px_00', 'bid_sz_00', 'ask_sz_00',\n",
       "       'bid_ct_00', 'ask_ct_00', 'bid_px_01', 'ask_px_01', 'bid_sz_01',\n",
       "       'ask_sz_01', 'bid_ct_01', 'ask_ct_01', 'bid_px_02', 'ask_px_02',\n",
       "       'bid_sz_02', 'ask_sz_02', 'bid_ct_02', 'ask_ct_02', 'bid_px_03',\n",
       "       'ask_px_03', 'bid_sz_03', 'ask_sz_03', 'bid_ct_03', 'ask_ct_03',\n",
       "       'bid_px_04', 'ask_px_04', 'bid_sz_04', 'ask_sz_04', 'bid_ct_04',\n",
       "       'ask_ct_04', 'bid_px_05', 'ask_px_05', 'bid_sz_05', 'ask_sz_05',\n",
       "       'bid_ct_05', 'ask_ct_05', 'bid_px_06', 'ask_px_06', 'bid_sz_06',\n",
       "       'ask_sz_06', 'bid_ct_06', 'ask_ct_06', 'bid_px_07', 'ask_px_07',\n",
       "       'bid_sz_07', 'ask_sz_07', 'bid_ct_07', 'ask_ct_07', 'bid_px_08',\n",
       "       'ask_px_08', 'bid_sz_08', 'ask_sz_08', 'bid_ct_08', 'ask_ct_08',\n",
       "       'bid_px_09', 'ask_px_09', 'bid_sz_09', 'ask_sz_09', 'bid_ct_09',\n",
       "       'ask_ct_09', 'symbol'],\n",
       "      dtype='object')"
      ]
     },
     "execution_count": 17,
     "metadata": {},
     "output_type": "execute_result"
    }
   ],
   "source": [
    "data.columns"
   ]
  },
  {
   "cell_type": "code",
   "execution_count": 19,
   "id": "b962f600-c81b-4137-ae34-d560cd8864f4",
   "metadata": {
    "tags": []
   },
   "outputs": [
    {
     "data": {
      "text/plain": [
       "ts_recv          object\n",
       "ts_event         object\n",
       "rtype             int64\n",
       "publisher_id      int64\n",
       "instrument_id     int64\n",
       "                  ...  \n",
       "bid_sz_09         int64\n",
       "ask_sz_09         int64\n",
       "bid_ct_09         int64\n",
       "ask_ct_09         int64\n",
       "symbol           object\n",
       "Length: 74, dtype: object"
      ]
     },
     "execution_count": 19,
     "metadata": {},
     "output_type": "execute_result"
    }
   ],
   "source": [
    "data.dtypes"
   ]
  },
  {
   "cell_type": "code",
   "execution_count": 23,
   "id": "a44467cf-0c97-45d7-b7ab-1af63efa6830",
   "metadata": {
    "tags": []
   },
   "outputs": [
    {
     "data": {
      "text/plain": [
       "0       233.67\n",
       "1       233.67\n",
       "2       233.67\n",
       "3       233.67\n",
       "4       233.67\n",
       "         ...  \n",
       "4995    233.51\n",
       "4996    233.51\n",
       "4997    233.51\n",
       "4998    233.51\n",
       "4999    233.51\n",
       "Name: bid_px_00, Length: 5000, dtype: float64"
      ]
     },
     "execution_count": 23,
     "metadata": {},
     "output_type": "execute_result"
    }
   ],
   "source": [
    "data['bid_px_00']"
   ]
  },
  {
   "cell_type": "code",
   "execution_count": 41,
   "id": "83683be6-e1d8-40ae-9860-fdb7bacfb960",
   "metadata": {
    "tags": []
   },
   "outputs": [],
   "source": [
    "def get_col_name(m, bid=True, px=True):\n",
    "    name = []\n",
    "    if bid:\n",
    "        name.append(\"bid_\")\n",
    "    else:\n",
    "        name.append(\"ask_\")\n",
    "    if px:\n",
    "        name.append(\"px_\")\n",
    "    else:\n",
    "        name.append(\"sz_\")\n",
    "    name.append(\"0\")\n",
    "    name.append(str(m))\n",
    "    #suffix.append(str(m))\n",
    "    return \"\".join(name)"
   ]
  },
  {
   "cell_type": "code",
   "execution_count": 45,
   "id": "49a145a7-ebf5-47d8-9e8a-26634722a972",
   "metadata": {
    "tags": []
   },
   "outputs": [
    {
     "name": "stdout",
     "output_type": "stream",
     "text": [
      "bid_px_03\n",
      "ask_sz_03\n"
     ]
    }
   ],
   "source": [
    "print(get_col_name(3))\n",
    "print(get_col_name(3, bid=False, px=False))"
   ]
  },
  {
   "cell_type": "code",
   "execution_count": 47,
   "id": "f73711df-5783-43d4-af45-2810b32f8081",
   "metadata": {
    "tags": []
   },
   "outputs": [
    {
     "data": {
      "text/plain": [
       "0       233.48\n",
       "1       233.48\n",
       "2       233.48\n",
       "3       233.48\n",
       "4       233.48\n",
       "         ...  \n",
       "4995    233.45\n",
       "4996    233.45\n",
       "4997    233.40\n",
       "4998    233.44\n",
       "4999    233.44\n",
       "Name: bid_px_03, Length: 5000, dtype: float64"
      ]
     },
     "execution_count": 47,
     "metadata": {},
     "output_type": "execute_result"
    }
   ],
   "source": [
    "data[get_col_name(3)]"
   ]
  },
  {
   "cell_type": "code",
   "execution_count": 91,
   "id": "a31c8236-7dd9-490c-959d-1a3df264de4f",
   "metadata": {
    "tags": []
   },
   "outputs": [],
   "source": [
    "def calc_OF_a(n,m):\n",
    "    if n == 0:\n",
    "        raise ValueError(\"not defined for t = 0\")\n",
    "    q_m_a_previous = data[get_col_name(m, bid=False, px=False)][n-1]\n",
    "    q_m_a_current = data[get_col_name(m, bid=False, px=False)][n]\n",
    "    P_m_a_previous = data[get_col_name(m, bid=False, px=True)][n-1]\n",
    "    P_m_a_current = data[get_col_name(m, bid=False, px=True)][n]\n",
    "    if P_m_a_current > P_m_a_previous:\n",
    "        return -q_m_a_current\n",
    "    if P_m_a_current == P_m_a_previous:\n",
    "        return q_m_a_current - q_m_a_previous\n",
    "    if P_m_a_current < P_m_a_previous:\n",
    "        return q_m_a_current\n",
    "    \n",
    "def calc_OF_b(n, m):\n",
    "    if n == 0:\n",
    "        raise ValueError(\"not defined for t = 0\")\n",
    "    q_m_b_previous = data[get_col_name(m, bid=True, px=False)][n-1]\n",
    "    q_m_b_current = data[get_col_name(m, bid=True, px=False)][n]\n",
    "    P_m_b_previous = data[get_col_name(m, bid=True, px=True)][n-1]\n",
    "    P_m_b_current = data[get_col_name(m, bid=True, px=True)][n]\n",
    "    if P_m_b_current > P_m_b_previous:\n",
    "        return q_m_b_current\n",
    "    if P_m_b_current == P_m_b_previous:\n",
    "        return q_m_b_current - q_m_b_previous\n",
    "    if P_m_b_current < P_m_b_previous:\n",
    "        return -q_m_b_current"
   ]
  },
  {
   "cell_type": "code",
   "execution_count": 139,
   "id": "568ba41f-7130-4eb2-95c1-68120ae3528b",
   "metadata": {
    "tags": []
   },
   "outputs": [
    {
     "data": {
      "text/plain": [
       "4999"
      ]
     },
     "execution_count": 139,
     "metadata": {},
     "output_type": "execute_result"
    }
   ],
   "source": [
    "conditions = ["
   ]
  },
  {
   "cell_type": "code",
   "execution_count": 143,
   "id": "d8a0f754-bf67-453e-a3f9-b3dae1d48bbb",
   "metadata": {
    "tags": []
   },
   "outputs": [],
   "source": [
    "P_m_b_current = data[get_col_name(0, bid=True, px=True)][1::]\n",
    "P_m_b_previous = data[get_col_name(0, bid=True, px=True)][:5000:]\n"
   ]
  },
  {
   "cell_type": "code",
   "execution_count": 147,
   "id": "37463808-00cb-4009-bbca-86a5a5d640b6",
   "metadata": {
    "tags": []
   },
   "outputs": [
    {
     "data": {
      "text/plain": [
       "1       233.67\n",
       "2       233.67\n",
       "3       233.67\n",
       "4       233.67\n",
       "5       233.67\n",
       "         ...  \n",
       "4995    233.51\n",
       "4996    233.51\n",
       "4997    233.51\n",
       "4998    233.51\n",
       "4999    233.51\n",
       "Name: bid_px_00, Length: 4999, dtype: float64"
      ]
     },
     "execution_count": 147,
     "metadata": {},
     "output_type": "execute_result"
    }
   ],
   "source": [
    "P_m_b_current = data[get_col_name(0, bid=True, px=True)][1::]\n",
    "P_m_b_current"
   ]
  },
  {
   "cell_type": "code",
   "execution_count": 197,
   "id": "defd387b-4c43-4b2b-9405-9867a5ce1a9a",
   "metadata": {
    "tags": []
   },
   "outputs": [],
   "source": [
    "P_m_b = data[get_col_name(0, bid=True, px=True)].values"
   ]
  },
  {
   "cell_type": "code",
   "execution_count": 199,
   "id": "ee156fdc-d24e-482d-87df-d8368ea4ae2d",
   "metadata": {
    "tags": []
   },
   "outputs": [],
   "source": [
    "q_m_b = data[get_col_name(0, bid=True, px=False)].values\n"
   ]
  },
  {
   "cell_type": "code",
   "execution_count": 255,
   "id": "f0457875-9995-488c-bfbb-1306f7464493",
   "metadata": {
    "tags": []
   },
   "outputs": [
    {
     "name": "stdout",
     "output_type": "stream",
     "text": [
      "42.6 µs ± 2.97 µs per loop (mean ± std. dev. of 7 runs, 10,000 loops each)\n"
     ]
    }
   ],
   "source": [
    "%%timeit\n",
    "P_m_b = data[get_col_name(0, bid=True, px=True)].values\n",
    "q_m_b = data[get_col_name(0, bid=True, px=False)].values\n",
    "conditions = [P_m_b[1:] - P_m_b[:-1] > 0,\n",
    "              P_m_b[1:] - P_m_b[:-1] == 0,\n",
    "             ]\n",
    "values = [q_m_b[1:],q_m_b[1:] - q_m_b[:-1]]\n",
    "OFI = np.select(conditions, values, - q_m_b[1:])"
   ]
  },
  {
   "cell_type": "code",
   "execution_count": 425,
   "id": "5c6a9946-49a3-472b-9b82-cda327d159a1",
   "metadata": {
    "tags": []
   },
   "outputs": [],
   "source": [
    "#timeit\n",
    "row_num = 5000\n",
    "levels = 10\n",
    "OFI = np.zeros((5000,2, 10),dtype=np.float64)\n",
    "for i in range(10):\n",
    "    P_m_b = data[get_col_name(i, bid=True, px=True)].values\n",
    "    q_m_b = data[get_col_name(i, bid=True, px=False)].values\n",
    "    conditions = [P_m_b[1:] - P_m_b[:-1] > 0,\n",
    "              P_m_b[1:] - P_m_b[:-1] == 0,\n",
    "             ]\n",
    "    values = [q_m_b[1:],q_m_b[1:] - q_m_b[:-1]]\n",
    "    OFI[1:,0,i] = np.select(conditions, values, - q_m_b[1:])\n",
    "    OFI[0,0,i] = q_m_b[0]\n",
    "for i in range(10):\n",
    "    P_m_a = data[get_col_name(i, bid=False, px=True)].values\n",
    "    q_m_a = data[get_col_name(i, bid=False, px=False)].values\n",
    "    conditions = [P_m_a[1:] - P_m_a[:-1] > 0,\n",
    "              P_m_a[1:] - P_m_a[:-1] == 0,\n",
    "             ]\n",
    "    values = [-q_m_a[1:],q_m_a[1:] - q_m_a[:-1]]\n",
    "    OFI[1:,1,i] = np.select(conditions, values, - q_m_a[1:])\n",
    "    OFI[0, 1, i] = -q_m_a[0]"
   ]
  },
  {
   "cell_type": "code",
   "execution_count": 423,
   "id": "961693b9-73fb-460f-93fe-5dcf96be74dc",
   "metadata": {
    "tags": []
   },
   "outputs": [
    {
     "name": "stdout",
     "output_type": "stream",
     "text": [
      "34.2 µs ± 1.3 µs per loop (mean ± std. dev. of 7 runs, 10,000 loops each)\n"
     ]
    }
   ],
   "source": [
    "%%timeit\n",
    "P_m_b = data[get_col_name(0, bid=True, px=True)].values\n",
    "q_m_b = data[get_col_name(0, bid=True, px=False)].values\n",
    "diff = P_m_b[1:] - P_m_b[:-1]  \n",
    "conditions = [diff > 0,\n",
    "              diff == 0,\n",
    "             ]\n",
    "values = [q_m_b[1:],q_m_b[1:] - q_m_b[:-1]]\n",
    "OFI = np.select(conditions, values, - q_m_b[1:])"
   ]
  },
  {
   "cell_type": "code",
   "execution_count": 203,
   "id": "f2404e6e-68f5-4b1f-b1cd-6d0d62ef8abf",
   "metadata": {
    "tags": []
   },
   "outputs": [
    {
     "name": "stdout",
     "output_type": "stream",
     "text": [
      "[array([141, 144, 144, ...,   1,   1,   1], dtype=int64), array([2, 3, 0, ..., 0, 0, 0], dtype=int64)]\n"
     ]
    }
   ],
   "source": []
  },
  {
   "cell_type": "code",
   "execution_count": 237,
   "id": "413a4a8a-12f2-4adf-a47f-7a266592eaf5",
   "metadata": {
    "tags": []
   },
   "outputs": [
    {
     "name": "stdout",
     "output_type": "stream",
     "text": [
      "59.9 ms ± 1.62 ms per loop (mean ± std. dev. of 7 runs, 10 loops each)\n"
     ]
    }
   ],
   "source": [
    "%%timeit\n",
    "test_OFI = np.zeros(4999, dtype=np.float64)\n",
    "for i in range(len(test_OFI)):\n",
    "    test_OFI[i] = calc_OF_b(i+1,0)"
   ]
  },
  {
   "cell_type": "code",
   "execution_count": 427,
   "id": "c3a0e364-1090-416b-8be1-890f6848d4bb",
   "metadata": {
    "tags": []
   },
   "outputs": [
    {
     "data": {
      "text/plain": [
       "4945.0"
      ]
     },
     "execution_count": 427,
     "metadata": {},
     "output_type": "execute_result"
    }
   ],
   "source": [
    "def best_level_OFI(first_order, last_order):\n",
    "    if last_order < first_order:\n",
    "        raise ValueError(\"last order index should be smaller than first\")\n",
    "    return sum(OFI[first_order:last_order+1,0,0] - OFI[first_order:last_order+1,1,0])\n",
    "\n",
    "best_level_OFI(0,4999)"
   ]
  },
  {
   "cell_type": "code",
   "execution_count": 363,
   "id": "d76bfdf0-dbe1-46bb-9ef8-ac8c45219152",
   "metadata": {
    "tags": []
   },
   "outputs": [],
   "source": [
    "def single_level_OFI(first_order, last_order, m):\n",
    "    if last_order < first_order:\n",
    "        raise ValueError(\"last order index should be smaller than first\")\n",
    "    return sum(OFI[first_order:last_order+1, 0, m] - OFI[first_order:last_order+1, 1, m])"
   ]
  },
  {
   "cell_type": "code",
   "execution_count": 405,
   "id": "77fc3a42-77c4-4b44-b327-2cebc5e1b6b4",
   "metadata": {
    "tags": []
   },
   "outputs": [],
   "source": [
    "def multi_level_OFI(first_order, last_order, M = 9):\n",
    "    if last_order < first_order:\n",
    "        raise ValueError(\"last order index should be smaller than first\")\n",
    "    OFI_vec = np.zeros(M+1, dtype=np.float64)\n",
    "    scaling_factor = get_scaling_factor(M, first_order, last_order)\n",
    "    for i in range(M+1):\n",
    "        OFI_vec[i] = single_level_OFI(first_order, last_order, i)\n",
    "    OFI_vec /= scaling_factor\n",
    "    return OFI_vec"
   ]
  },
  {
   "cell_type": "code",
   "execution_count": null,
   "id": "7e291533-6c1b-4c3f-aea6-8b9ec92b60fe",
   "metadata": {
    "tags": []
   },
   "outputs": [],
   "source": [
    "def get_scaling_factor(M,first_order, last_order):\n",
    "    prefactor = 1/(M+1) * (1/(2*(last_order-first_order+1)))\n",
    "    summation = 0\n",
    "    for i in range(M+1):\n",
    "        summation += sum(data[get_col_name(i, bid = True, px = False)].values[first_order:last_order+1])\n",
    "        summation += sum(data[get_col_name(i, bid = False, px = False)].values[first_order:last_order+1])\n",
    "    return summation * prefactor"
   ]
  },
  {
   "cell_type": "code",
   "execution_count": 413,
   "id": "89e02e40-7663-4620-87b9-05256e39c495",
   "metadata": {
    "tags": []
   },
   "outputs": [],
   "source": [
    "def get_all_multi_level_OFI():\n",
    "    all_multi_level_OFI = np.zeros((5000,10),dtype=np.float64)\n",
    "    for i in range(5000):\n",
    "        all_multi_level_OFI[i,:] = multi_level_OFI(i, i, M=9)\n",
    "    return all_multi_level_OFI"
   ]
  },
  {
   "cell_type": "code",
   "execution_count": 449,
   "id": "190afdca-846a-414a-84a8-468fbf2f1fc0",
   "metadata": {
    "tags": []
   },
   "outputs": [],
   "source": [
    "#%%timeit\n",
    "a = get_all_multi_level_OFI()"
   ]
  },
  {
   "cell_type": "code",
   "execution_count": 507,
   "id": "157c6b09-e5d1-416d-892f-5f9caa1fa9aa",
   "metadata": {
    "tags": []
   },
   "outputs": [],
   "source": [
    "from sklearn.preprocessing import StandardScaler\n",
    "x = StandardScaler().fit_transform(a.T)\n",
    "from sklearn.decomposition import PCA\n",
    "pca = PCA(n_components=10)\n",
    "principal_components = pca.fit_transform(x)\n",
    "first_principal_component = principal_components[:,0]\n",
    "first_PC = first_principal_component/np.linalg.norm(first_principal_component,ord=1)\n"
   ]
  },
  {
   "cell_type": "code",
   "execution_count": 509,
   "id": "54ab64e8-9218-4cef-be8d-7375a022b09e",
   "metadata": {
    "tags": []
   },
   "outputs": [
    {
     "data": {
      "text/plain": [
       "array([ -5.69257219, -54.0077173 ,  78.08040492, -23.59119133,\n",
       "        11.48763784,  -0.31636996,  -2.62027065,  -3.10673678,\n",
       "         1.00591756,  -1.2391021 ])"
      ]
     },
     "execution_count": 509,
     "metadata": {},
     "output_type": "execute_result"
    }
   ],
   "source": [
    "first_principal_component"
   ]
  },
  {
   "cell_type": "code",
   "execution_count": 513,
   "id": "d2f761b4-a0c2-43b6-862a-cd42c7400c5c",
   "metadata": {
    "tags": []
   },
   "outputs": [],
   "source": [
    "first_PC = first_principal_component/np.linalg.norm(first_principal_component,ord=1)"
   ]
  },
  {
   "cell_type": "code",
   "execution_count": 519,
   "id": "0acdad1c-2335-4fc5-b178-942684ed5b42",
   "metadata": {
    "tags": []
   },
   "outputs": [
    {
     "data": {
      "text/plain": [
       "array([-0.03142499, -0.29814152,  0.4310312 , -0.13023164,  0.06341579,\n",
       "       -0.00174647, -0.01446481, -0.01715028,  0.00555302, -0.00684028])"
      ]
     },
     "execution_count": 519,
     "metadata": {},
     "output_type": "execute_result"
    }
   ],
   "source": [
    "first_PC"
   ]
  },
  {
   "cell_type": "code",
   "execution_count": 505,
   "id": "0d1bc5ab-8556-429d-b812-674027bf7e1a",
   "metadata": {
    "tags": []
   },
   "outputs": [
    {
     "data": {
      "text/plain": [
       "array([[-5.69257219e+00,  4.82494145e+00,  6.85246119e+01,\n",
       "        -3.81656801e+01, -1.19578621e+01, -2.87194005e+00,\n",
       "        -1.73099136e+00, -1.24009023e+00,  6.31454325e-01,\n",
       "         1.46496229e-14],\n",
       "       [-5.40077173e+01,  6.71688374e+01, -2.32739976e+01,\n",
       "        -8.48070180e+00, -3.59476426e-01,  1.07220778e+00,\n",
       "         1.13676098e-01, -9.60600278e-01,  6.33818635e-01,\n",
       "         1.46496229e-14],\n",
       "       [ 7.80804049e+01,  2.95597760e+01, -2.32429565e+01,\n",
       "        -2.41805569e+01, -3.75018794e+00, -7.27635859e-02,\n",
       "         3.83264094e+00, -3.08199356e+00, -1.76051948e+00,\n",
       "         1.46496229e-14],\n",
       "       [-2.35911913e+01, -5.08316729e+01, -3.74974596e+01,\n",
       "        -3.59478513e+01, -2.03886674e+01, -8.72434744e+00,\n",
       "        -6.57306663e+00,  3.06360762e+00, -7.41782510e+00,\n",
       "         1.46496229e-14],\n",
       "       [ 1.14876378e+01,  5.47155885e+00,  5.78819550e+00,\n",
       "         4.20201899e+01, -2.94878308e+01, -4.85956368e+00,\n",
       "        -2.78270666e+01,  1.79997372e+01,  3.90131295e+00,\n",
       "         1.46496229e-14],\n",
       "       [-3.16369964e-01, -1.46839206e+01, -3.53826596e+00,\n",
       "        -2.03682619e+00,  3.37896708e+01, -2.05879248e+01,\n",
       "         3.08060638e+00,  9.93945784e+00,  2.81867713e+01,\n",
       "         1.46496229e-14],\n",
       "       [-2.62027065e+00, -1.81711108e+01, -2.74177380e+00,\n",
       "         7.89194235e+00,  1.75117932e+00,  4.55791664e+01,\n",
       "        -7.37925460e+00, -1.86563423e+01,  1.30548565e+01,\n",
       "         1.46496229e-14],\n",
       "       [-3.10673678e+00, -9.08029218e+00,  3.49976084e+00,\n",
       "         3.33063316e+01, -2.13779250e+01, -1.70727704e+01,\n",
       "         3.50369877e+01, -1.70318279e+01,  2.09734386e-01,\n",
       "         1.46496229e-14],\n",
       "       [ 1.00591756e+00, -5.83892382e+00,  6.61838711e+00,\n",
       "         1.65696748e+01,  3.39009730e+01, -1.49382407e+01,\n",
       "        -2.05280094e+01, -1.74155393e+01, -2.09974229e+01,\n",
       "         1.46496229e-14],\n",
       "       [-1.23910210e+00, -8.41919351e+00,  5.86349820e+00,\n",
       "         9.02347764e+00,  1.78801265e+01,  2.24761765e+01,\n",
       "         2.19744776e+01,  2.73835909e+01, -1.64421805e+01,\n",
       "         1.46496229e-14]])"
      ]
     },
     "execution_count": 505,
     "metadata": {},
     "output_type": "execute_result"
    }
   ],
   "source": [
    "principalComponents"
   ]
  },
  {
   "cell_type": "code",
   "execution_count": 501,
   "id": "2bf03bad-f5e1-468c-a91e-eb92b0cb2b2b",
   "metadata": {
    "tags": []
   },
   "outputs": [
    {
     "data": {
      "text/plain": [
       "array([[ -5.69257219,   4.82494145],\n",
       "       [-54.0077173 ,  67.16883743],\n",
       "       [ 78.08040492,  29.55977604],\n",
       "       [-23.59119133, -50.83167286],\n",
       "       [ 11.48763784,   5.47155885],\n",
       "       [ -0.31636996, -14.68392057],\n",
       "       [ -2.62027065, -18.17111084],\n",
       "       [ -3.10673678,  -9.08029218],\n",
       "       [  1.00591756,  -5.83892382],\n",
       "       [ -1.2391021 ,  -8.41919351]])"
      ]
     },
     "execution_count": 501,
     "metadata": {},
     "output_type": "execute_result"
    }
   ],
   "source": [
    "principalComponents"
   ]
  },
  {
   "cell_type": "code",
   "execution_count": 487,
   "id": "75ac0d12-a010-416a-81e4-6cfdce109ae7",
   "metadata": {
    "tags": []
   },
   "outputs": [
    {
     "data": {
      "text/plain": [
       "array([ 1.12747675, -1.51215476,  0.07323368, -0.16819603, -1.24658208,\n",
       "       -0.51424529,  0.08932899, -0.3613398 ,  0.45147356,  2.06100497])"
      ]
     },
     "execution_count": 487,
     "metadata": {},
     "output_type": "execute_result"
    }
   ],
   "source": [
    "x[:,0]"
   ]
  },
  {
   "cell_type": "code",
   "execution_count": 451,
   "id": "5b7f3691-a0b2-4265-9557-8a7542178a45",
   "metadata": {
    "tags": []
   },
   "outputs": [
    {
     "data": {
      "text/plain": [
       "array([ 0.        , -0.40567951, -0.01014199, -4.05679513, -0.10141988,\n",
       "       -0.26369168, -0.15212982, -1.11561866, -0.10141988, -1.11561866])"
      ]
     },
     "execution_count": 451,
     "metadata": {},
     "output_type": "execute_result"
    }
   ],
   "source": [
    "multi_level_OFI(250,250)"
   ]
  },
  {
   "cell_type": "code",
   "execution_count": null,
   "id": "b03ed421-23b4-45f2-87df-e74567cd39e6",
   "metadata": {},
   "outputs": [],
   "source": []
  },
  {
   "cell_type": "code",
   "execution_count": null,
   "id": "099d7321-fb5e-48a7-975a-b5c514d32c9e",
   "metadata": {},
   "outputs": [],
   "source": []
  },
  {
   "cell_type": "code",
   "execution_count": 321,
   "id": "ece5f14d-69f5-4ed0-8cfa-c079313a087f",
   "metadata": {
    "tags": []
   },
   "outputs": [
    {
     "name": "stdout",
     "output_type": "stream",
     "text": [
      "0.0025\n"
     ]
    },
    {
     "data": {
      "text/plain": [
       "5118.2725"
      ]
     },
     "execution_count": 321,
     "metadata": {},
     "output_type": "execute_result"
    }
   ],
   "source": [
    "get_scaling_factor(0, 0, 200)"
   ]
  },
  {
   "cell_type": "code",
   "execution_count": 283,
   "id": "ade5a795-a1e8-437e-924c-0dbb2548e145",
   "metadata": {
    "tags": []
   },
   "outputs": [
    {
     "name": "stdout",
     "output_type": "stream",
     "text": [
      "-57679.0\n",
      "-62610.0\n"
     ]
    }
   ],
   "source": [
    "print(sum(OFI[0:4999,0,0]))\n",
    "print(sum(OFI[0:4999,1,0]))"
   ]
  },
  {
   "cell_type": "code",
   "execution_count": 227,
   "id": "4cb07918-5523-4a35-8fbd-9fe565e83059",
   "metadata": {
    "tags": []
   },
   "outputs": [
    {
     "name": "stdout",
     "output_type": "stream",
     "text": [
      "[2. 3. 0. ... 0. 0. 0.]\n"
     ]
    }
   ],
   "source": [
    "print(test_OFI)"
   ]
  },
  {
   "cell_type": "code",
   "execution_count": 233,
   "id": "e633b674-8095-48b7-907c-9cbe09b3e39c",
   "metadata": {
    "tags": []
   },
   "outputs": [
    {
     "data": {
      "text/plain": [
       "True"
      ]
     },
     "execution_count": 233,
     "metadata": {},
     "output_type": "execute_result"
    }
   ],
   "source": [
    "(test_OFI == OFI).all()"
   ]
  },
  {
   "cell_type": "code",
   "execution_count": 117,
   "id": "024676b7-65a3-4f68-959e-f8112b78f965",
   "metadata": {
    "tags": []
   },
   "outputs": [
    {
     "data": {
      "text/plain": [
       "1"
      ]
     },
     "execution_count": 117,
     "metadata": {},
     "output_type": "execute_result"
    }
   ],
   "source": [
    "calc_OF_a(100,1) #-200\n",
    "calc_OF_a(99,7) # 1"
   ]
  },
  {
   "cell_type": "code",
   "execution_count": null,
   "id": "5c04a246-db91-4d25-8774-e20d8a411440",
   "metadata": {},
   "outputs": [],
   "source": []
  }
 ],
 "metadata": {
  "kernelspec": {
   "display_name": "Python 3 (ipykernel)",
   "language": "python",
   "name": "python3"
  },
  "language_info": {
   "codemirror_mode": {
    "name": "ipython",
    "version": 3
   },
   "file_extension": ".py",
   "mimetype": "text/x-python",
   "name": "python",
   "nbconvert_exporter": "python",
   "pygments_lexer": "ipython3",
   "version": "3.11.7"
  }
 },
 "nbformat": 4,
 "nbformat_minor": 5
}
